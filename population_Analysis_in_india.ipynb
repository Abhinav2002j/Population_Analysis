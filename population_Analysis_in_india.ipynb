{
  "cells": [
    {
      "cell_type": "markdown",
      "metadata": {
        "id": "J5pspmIZnXxs"
      },
      "source": [
        "#                                        Census of India(2011)"
      ]
    },
    {
      "cell_type": "markdown",
      "metadata": {
        "id": "ADRbcx_tnXxx"
      },
      "source": [
        "## Libraries\n",
        "Python libraries like ```pandas```, ```numpy```, ```matplotlib```, ```seaborn``` are used to do the Exploratory Data Analysis over the data\n",
        "and for making a good visualization out of it"
      ]
    },
    {
      "cell_type": "code",
      "execution_count": null,
      "metadata": {
        "id": "LPt4WdAZnXx0"
      },
      "outputs": [],
      "source": [
        "#Importing libraries\n",
        "\n",
        "import matplotlib.pyplot as plt\n",
        "%matplotlib inline             \n",
        "\n",
        "import seaborn as sns\n",
        "import pandas as pd\n",
        "import os\n",
        "import numpy as np"
      ]
    },
    {
      "cell_type": "markdown",
      "metadata": {
        "id": "HN7yyKownXx1"
      },
      "source": [
        "### Dataset\n",
        "**The datset used here is the *Last census of India* that took place in 2011**"
      ]
    },
    {
      "cell_type": "code",
      "execution_count": null,
      "metadata": {
        "id": "tcyulEuWnXx1",
        "scrolled": true
      },
      "outputs": [],
      "source": [
        "census_dataframe = pd.read_csv('india-districts-census-2011.csv')  # Loading dataset and assigning vector to it\n",
        "census_df = census_dataframe.copy()                                # Creating a copy of the dataset that will be used further in Analysis"
      ]
    },
    {
      "cell_type": "markdown",
      "metadata": {
        "id": "KQIDIcFdnXx2"
      },
      "source": [
        "## Exploring Dataset"
      ]
    },
    {
      "cell_type": "code",
      "execution_count": null,
      "metadata": {
        "colab": {
          "base_uri": "https://localhost:8080/"
        },
        "id": "b6d6wDFFnXx2",
        "outputId": "b9843bde-2da3-4e8a-816c-f06fdd8b4c60",
        "scrolled": true
      },
      "outputs": [
        {
          "data": {
            "text/plain": [
              "(640, 118)"
            ]
          },
          "execution_count": 4,
          "metadata": {},
          "output_type": "execute_result"
        }
      ],
      "source": [
        "census_df.shape                         # It gives a view of number of rows and number of columns in the dataset"
      ]
    },
    {
      "cell_type": "code",
      "execution_count": null,
      "metadata": {
        "colab": {
          "base_uri": "https://localhost:8080/",
          "height": 411
        },
        "id": "aCmpnnVQnXx3",
        "outputId": "3d6e1251-47de-4aec-a53c-99cdc7c67b20"
      },
      "outputs": [
        {
          "data": {
            "text/html": [
              "\n",
              "  <div id=\"df-70ac9d13-d015-42af-8f80-d7380332b5e5\">\n",
              "    <div class=\"colab-df-container\">\n",
              "      <div>\n",
              "<style scoped>\n",
              "    .dataframe tbody tr th:only-of-type {\n",
              "        vertical-align: middle;\n",
              "    }\n",
              "\n",
              "    .dataframe tbody tr th {\n",
              "        vertical-align: top;\n",
              "    }\n",
              "\n",
              "    .dataframe thead th {\n",
              "        text-align: right;\n",
              "    }\n",
              "</style>\n",
              "<table border=\"1\" class=\"dataframe\">\n",
              "  <thead>\n",
              "    <tr style=\"text-align: right;\">\n",
              "      <th></th>\n",
              "      <th>District code</th>\n",
              "      <th>Population</th>\n",
              "      <th>Male</th>\n",
              "      <th>Female</th>\n",
              "      <th>Literate</th>\n",
              "      <th>Male_Literate</th>\n",
              "      <th>Female_Literate</th>\n",
              "      <th>SC</th>\n",
              "      <th>Male_SC</th>\n",
              "      <th>Female_SC</th>\n",
              "      <th>...</th>\n",
              "      <th>Power_Parity_Rs_90000_150000</th>\n",
              "      <th>Power_Parity_Rs_45000_150000</th>\n",
              "      <th>Power_Parity_Rs_150000_240000</th>\n",
              "      <th>Power_Parity_Rs_240000_330000</th>\n",
              "      <th>Power_Parity_Rs_150000_330000</th>\n",
              "      <th>Power_Parity_Rs_330000_425000</th>\n",
              "      <th>Power_Parity_Rs_425000_545000</th>\n",
              "      <th>Power_Parity_Rs_330000_545000</th>\n",
              "      <th>Power_Parity_Above_Rs_545000</th>\n",
              "      <th>Total_Power_Parity</th>\n",
              "    </tr>\n",
              "  </thead>\n",
              "  <tbody>\n",
              "    <tr>\n",
              "      <th>count</th>\n",
              "      <td>640.000000</td>\n",
              "      <td>6.400000e+02</td>\n",
              "      <td>6.400000e+02</td>\n",
              "      <td>6.400000e+02</td>\n",
              "      <td>6.400000e+02</td>\n",
              "      <td>6.400000e+02</td>\n",
              "      <td>6.400000e+02</td>\n",
              "      <td>6.400000e+02</td>\n",
              "      <td>6.400000e+02</td>\n",
              "      <td>6.400000e+02</td>\n",
              "      <td>...</td>\n",
              "      <td>640.000000</td>\n",
              "      <td>640.000000</td>\n",
              "      <td>640.000000</td>\n",
              "      <td>640.000000</td>\n",
              "      <td>640.000000</td>\n",
              "      <td>640.000000</td>\n",
              "      <td>640.000000</td>\n",
              "      <td>640.000000</td>\n",
              "      <td>640.000000</td>\n",
              "      <td>640.000000</td>\n",
              "    </tr>\n",
              "    <tr>\n",
              "      <th>mean</th>\n",
              "      <td>320.500000</td>\n",
              "      <td>1.891961e+06</td>\n",
              "      <td>9.738598e+05</td>\n",
              "      <td>9.181011e+05</td>\n",
              "      <td>1.193186e+06</td>\n",
              "      <td>6.793182e+05</td>\n",
              "      <td>5.138675e+05</td>\n",
              "      <td>3.146537e+05</td>\n",
              "      <td>1.617739e+05</td>\n",
              "      <td>1.528798e+05</td>\n",
              "      <td>...</td>\n",
              "      <td>786.046875</td>\n",
              "      <td>1696.456250</td>\n",
              "      <td>294.000000</td>\n",
              "      <td>215.300000</td>\n",
              "      <td>509.300000</td>\n",
              "      <td>194.204688</td>\n",
              "      <td>261.245313</td>\n",
              "      <td>455.450000</td>\n",
              "      <td>279.631250</td>\n",
              "      <td>3315.412500</td>\n",
              "    </tr>\n",
              "    <tr>\n",
              "      <th>std</th>\n",
              "      <td>184.896367</td>\n",
              "      <td>1.544380e+06</td>\n",
              "      <td>8.007785e+05</td>\n",
              "      <td>7.449864e+05</td>\n",
              "      <td>1.068583e+06</td>\n",
              "      <td>5.924144e+05</td>\n",
              "      <td>4.801816e+05</td>\n",
              "      <td>3.129818e+05</td>\n",
              "      <td>1.611216e+05</td>\n",
              "      <td>1.520336e+05</td>\n",
              "      <td>...</td>\n",
              "      <td>1038.854733</td>\n",
              "      <td>1720.535151</td>\n",
              "      <td>638.345281</td>\n",
              "      <td>362.684243</td>\n",
              "      <td>968.538748</td>\n",
              "      <td>424.108001</td>\n",
              "      <td>587.279450</td>\n",
              "      <td>1007.364839</td>\n",
              "      <td>1050.934537</td>\n",
              "      <td>4638.568719</td>\n",
              "    </tr>\n",
              "    <tr>\n",
              "      <th>min</th>\n",
              "      <td>1.000000</td>\n",
              "      <td>8.004000e+03</td>\n",
              "      <td>4.414000e+03</td>\n",
              "      <td>3.590000e+03</td>\n",
              "      <td>4.436000e+03</td>\n",
              "      <td>2.614000e+03</td>\n",
              "      <td>1.822000e+03</td>\n",
              "      <td>0.000000e+00</td>\n",
              "      <td>0.000000e+00</td>\n",
              "      <td>0.000000e+00</td>\n",
              "      <td>...</td>\n",
              "      <td>0.000000</td>\n",
              "      <td>0.000000</td>\n",
              "      <td>0.000000</td>\n",
              "      <td>0.000000</td>\n",
              "      <td>0.000000</td>\n",
              "      <td>0.000000</td>\n",
              "      <td>0.000000</td>\n",
              "      <td>0.000000</td>\n",
              "      <td>0.000000</td>\n",
              "      <td>9.000000</td>\n",
              "    </tr>\n",
              "    <tr>\n",
              "      <th>25%</th>\n",
              "      <td>160.750000</td>\n",
              "      <td>8.178610e+05</td>\n",
              "      <td>4.171682e+05</td>\n",
              "      <td>4.017458e+05</td>\n",
              "      <td>4.825982e+05</td>\n",
              "      <td>2.764365e+05</td>\n",
              "      <td>2.008920e+05</td>\n",
              "      <td>8.320850e+04</td>\n",
              "      <td>4.230700e+04</td>\n",
              "      <td>4.267175e+04</td>\n",
              "      <td>...</td>\n",
              "      <td>236.750000</td>\n",
              "      <td>589.000000</td>\n",
              "      <td>59.000000</td>\n",
              "      <td>24.750000</td>\n",
              "      <td>95.000000</td>\n",
              "      <td>19.000000</td>\n",
              "      <td>21.000000</td>\n",
              "      <td>44.000000</td>\n",
              "      <td>18.000000</td>\n",
              "      <td>1024.250000</td>\n",
              "    </tr>\n",
              "    <tr>\n",
              "      <th>50%</th>\n",
              "      <td>320.500000</td>\n",
              "      <td>1.557367e+06</td>\n",
              "      <td>7.986815e+05</td>\n",
              "      <td>7.589200e+05</td>\n",
              "      <td>9.573465e+05</td>\n",
              "      <td>5.483525e+05</td>\n",
              "      <td>4.038590e+05</td>\n",
              "      <td>2.460160e+05</td>\n",
              "      <td>1.255485e+05</td>\n",
              "      <td>1.178550e+05</td>\n",
              "      <td>...</td>\n",
              "      <td>518.000000</td>\n",
              "      <td>1220.500000</td>\n",
              "      <td>149.000000</td>\n",
              "      <td>118.500000</td>\n",
              "      <td>278.000000</td>\n",
              "      <td>84.000000</td>\n",
              "      <td>85.500000</td>\n",
              "      <td>186.500000</td>\n",
              "      <td>60.500000</td>\n",
              "      <td>2238.500000</td>\n",
              "    </tr>\n",
              "    <tr>\n",
              "      <th>75%</th>\n",
              "      <td>480.250000</td>\n",
              "      <td>2.583551e+06</td>\n",
              "      <td>1.338604e+06</td>\n",
              "      <td>1.264277e+06</td>\n",
              "      <td>1.602260e+06</td>\n",
              "      <td>9.188582e+05</td>\n",
              "      <td>6.641550e+05</td>\n",
              "      <td>4.477078e+05</td>\n",
              "      <td>2.284602e+05</td>\n",
              "      <td>2.140502e+05</td>\n",
              "      <td>...</td>\n",
              "      <td>941.250000</td>\n",
              "      <td>2233.250000</td>\n",
              "      <td>296.500000</td>\n",
              "      <td>262.000000</td>\n",
              "      <td>564.500000</td>\n",
              "      <td>213.250000</td>\n",
              "      <td>293.000000</td>\n",
              "      <td>497.000000</td>\n",
              "      <td>215.500000</td>\n",
              "      <td>3959.000000</td>\n",
              "    </tr>\n",
              "    <tr>\n",
              "      <th>max</th>\n",
              "      <td>640.000000</td>\n",
              "      <td>1.106015e+07</td>\n",
              "      <td>5.865078e+06</td>\n",
              "      <td>5.195070e+06</td>\n",
              "      <td>8.227161e+06</td>\n",
              "      <td>4.591396e+06</td>\n",
              "      <td>3.635765e+06</td>\n",
              "      <td>2.464032e+06</td>\n",
              "      <td>1.266504e+06</td>\n",
              "      <td>1.197528e+06</td>\n",
              "      <td>...</td>\n",
              "      <td>10334.000000</td>\n",
              "      <td>13819.000000</td>\n",
              "      <td>10835.000000</td>\n",
              "      <td>3595.000000</td>\n",
              "      <td>14430.000000</td>\n",
              "      <td>5027.000000</td>\n",
              "      <td>7597.000000</td>\n",
              "      <td>12624.000000</td>\n",
              "      <td>18289.000000</td>\n",
              "      <td>60163.000000</td>\n",
              "    </tr>\n",
              "  </tbody>\n",
              "</table>\n",
              "<p>8 rows × 116 columns</p>\n",
              "</div>\n",
              "      <button class=\"colab-df-convert\" onclick=\"convertToInteractive('df-70ac9d13-d015-42af-8f80-d7380332b5e5')\"\n",
              "              title=\"Convert this dataframe to an interactive table.\"\n",
              "              style=\"display:none;\">\n",
              "        \n",
              "  <svg xmlns=\"http://www.w3.org/2000/svg\" height=\"24px\"viewBox=\"0 0 24 24\"\n",
              "       width=\"24px\">\n",
              "    <path d=\"M0 0h24v24H0V0z\" fill=\"none\"/>\n",
              "    <path d=\"M18.56 5.44l.94 2.06.94-2.06 2.06-.94-2.06-.94-.94-2.06-.94 2.06-2.06.94zm-11 1L8.5 8.5l.94-2.06 2.06-.94-2.06-.94L8.5 2.5l-.94 2.06-2.06.94zm10 10l.94 2.06.94-2.06 2.06-.94-2.06-.94-.94-2.06-.94 2.06-2.06.94z\"/><path d=\"M17.41 7.96l-1.37-1.37c-.4-.4-.92-.59-1.43-.59-.52 0-1.04.2-1.43.59L10.3 9.45l-7.72 7.72c-.78.78-.78 2.05 0 2.83L4 21.41c.39.39.9.59 1.41.59.51 0 1.02-.2 1.41-.59l7.78-7.78 2.81-2.81c.8-.78.8-2.07 0-2.86zM5.41 20L4 18.59l7.72-7.72 1.47 1.35L5.41 20z\"/>\n",
              "  </svg>\n",
              "      </button>\n",
              "      \n",
              "  <style>\n",
              "    .colab-df-container {\n",
              "      display:flex;\n",
              "      flex-wrap:wrap;\n",
              "      gap: 12px;\n",
              "    }\n",
              "\n",
              "    .colab-df-convert {\n",
              "      background-color: #E8F0FE;\n",
              "      border: none;\n",
              "      border-radius: 50%;\n",
              "      cursor: pointer;\n",
              "      display: none;\n",
              "      fill: #1967D2;\n",
              "      height: 32px;\n",
              "      padding: 0 0 0 0;\n",
              "      width: 32px;\n",
              "    }\n",
              "\n",
              "    .colab-df-convert:hover {\n",
              "      background-color: #E2EBFA;\n",
              "      box-shadow: 0px 1px 2px rgba(60, 64, 67, 0.3), 0px 1px 3px 1px rgba(60, 64, 67, 0.15);\n",
              "      fill: #174EA6;\n",
              "    }\n",
              "\n",
              "    [theme=dark] .colab-df-convert {\n",
              "      background-color: #3B4455;\n",
              "      fill: #D2E3FC;\n",
              "    }\n",
              "\n",
              "    [theme=dark] .colab-df-convert:hover {\n",
              "      background-color: #434B5C;\n",
              "      box-shadow: 0px 1px 3px 1px rgba(0, 0, 0, 0.15);\n",
              "      filter: drop-shadow(0px 1px 2px rgba(0, 0, 0, 0.3));\n",
              "      fill: #FFFFFF;\n",
              "    }\n",
              "  </style>\n",
              "\n",
              "      <script>\n",
              "        const buttonEl =\n",
              "          document.querySelector('#df-70ac9d13-d015-42af-8f80-d7380332b5e5 button.colab-df-convert');\n",
              "        buttonEl.style.display =\n",
              "          google.colab.kernel.accessAllowed ? 'block' : 'none';\n",
              "\n",
              "        async function convertToInteractive(key) {\n",
              "          const element = document.querySelector('#df-70ac9d13-d015-42af-8f80-d7380332b5e5');\n",
              "          const dataTable =\n",
              "            await google.colab.kernel.invokeFunction('convertToInteractive',\n",
              "                                                     [key], {});\n",
              "          if (!dataTable) return;\n",
              "\n",
              "          const docLinkHtml = 'Like what you see? Visit the ' +\n",
              "            '<a target=\"_blank\" href=https://colab.research.google.com/notebooks/data_table.ipynb>data table notebook</a>'\n",
              "            + ' to learn more about interactive tables.';\n",
              "          element.innerHTML = '';\n",
              "          dataTable['output_type'] = 'display_data';\n",
              "          await google.colab.output.renderOutput(dataTable, element);\n",
              "          const docLink = document.createElement('div');\n",
              "          docLink.innerHTML = docLinkHtml;\n",
              "          element.appendChild(docLink);\n",
              "        }\n",
              "      </script>\n",
              "    </div>\n",
              "  </div>\n",
              "  "
            ],
            "text/plain": [
              "       District code    Population          Male        Female      Literate  \\\n",
              "count     640.000000  6.400000e+02  6.400000e+02  6.400000e+02  6.400000e+02   \n",
              "mean      320.500000  1.891961e+06  9.738598e+05  9.181011e+05  1.193186e+06   \n",
              "std       184.896367  1.544380e+06  8.007785e+05  7.449864e+05  1.068583e+06   \n",
              "min         1.000000  8.004000e+03  4.414000e+03  3.590000e+03  4.436000e+03   \n",
              "25%       160.750000  8.178610e+05  4.171682e+05  4.017458e+05  4.825982e+05   \n",
              "50%       320.500000  1.557367e+06  7.986815e+05  7.589200e+05  9.573465e+05   \n",
              "75%       480.250000  2.583551e+06  1.338604e+06  1.264277e+06  1.602260e+06   \n",
              "max       640.000000  1.106015e+07  5.865078e+06  5.195070e+06  8.227161e+06   \n",
              "\n",
              "       Male_Literate  Female_Literate            SC       Male_SC  \\\n",
              "count   6.400000e+02     6.400000e+02  6.400000e+02  6.400000e+02   \n",
              "mean    6.793182e+05     5.138675e+05  3.146537e+05  1.617739e+05   \n",
              "std     5.924144e+05     4.801816e+05  3.129818e+05  1.611216e+05   \n",
              "min     2.614000e+03     1.822000e+03  0.000000e+00  0.000000e+00   \n",
              "25%     2.764365e+05     2.008920e+05  8.320850e+04  4.230700e+04   \n",
              "50%     5.483525e+05     4.038590e+05  2.460160e+05  1.255485e+05   \n",
              "75%     9.188582e+05     6.641550e+05  4.477078e+05  2.284602e+05   \n",
              "max     4.591396e+06     3.635765e+06  2.464032e+06  1.266504e+06   \n",
              "\n",
              "          Female_SC  ...  Power_Parity_Rs_90000_150000  \\\n",
              "count  6.400000e+02  ...                    640.000000   \n",
              "mean   1.528798e+05  ...                    786.046875   \n",
              "std    1.520336e+05  ...                   1038.854733   \n",
              "min    0.000000e+00  ...                      0.000000   \n",
              "25%    4.267175e+04  ...                    236.750000   \n",
              "50%    1.178550e+05  ...                    518.000000   \n",
              "75%    2.140502e+05  ...                    941.250000   \n",
              "max    1.197528e+06  ...                  10334.000000   \n",
              "\n",
              "       Power_Parity_Rs_45000_150000  Power_Parity_Rs_150000_240000  \\\n",
              "count                    640.000000                     640.000000   \n",
              "mean                    1696.456250                     294.000000   \n",
              "std                     1720.535151                     638.345281   \n",
              "min                        0.000000                       0.000000   \n",
              "25%                      589.000000                      59.000000   \n",
              "50%                     1220.500000                     149.000000   \n",
              "75%                     2233.250000                     296.500000   \n",
              "max                    13819.000000                   10835.000000   \n",
              "\n",
              "       Power_Parity_Rs_240000_330000  Power_Parity_Rs_150000_330000  \\\n",
              "count                     640.000000                     640.000000   \n",
              "mean                      215.300000                     509.300000   \n",
              "std                       362.684243                     968.538748   \n",
              "min                         0.000000                       0.000000   \n",
              "25%                        24.750000                      95.000000   \n",
              "50%                       118.500000                     278.000000   \n",
              "75%                       262.000000                     564.500000   \n",
              "max                      3595.000000                   14430.000000   \n",
              "\n",
              "       Power_Parity_Rs_330000_425000  Power_Parity_Rs_425000_545000  \\\n",
              "count                     640.000000                     640.000000   \n",
              "mean                      194.204688                     261.245313   \n",
              "std                       424.108001                     587.279450   \n",
              "min                         0.000000                       0.000000   \n",
              "25%                        19.000000                      21.000000   \n",
              "50%                        84.000000                      85.500000   \n",
              "75%                       213.250000                     293.000000   \n",
              "max                      5027.000000                    7597.000000   \n",
              "\n",
              "       Power_Parity_Rs_330000_545000  Power_Parity_Above_Rs_545000  \\\n",
              "count                     640.000000                    640.000000   \n",
              "mean                      455.450000                    279.631250   \n",
              "std                      1007.364839                   1050.934537   \n",
              "min                         0.000000                      0.000000   \n",
              "25%                        44.000000                     18.000000   \n",
              "50%                       186.500000                     60.500000   \n",
              "75%                       497.000000                    215.500000   \n",
              "max                     12624.000000                  18289.000000   \n",
              "\n",
              "       Total_Power_Parity  \n",
              "count          640.000000  \n",
              "mean          3315.412500  \n",
              "std           4638.568719  \n",
              "min              9.000000  \n",
              "25%           1024.250000  \n",
              "50%           2238.500000  \n",
              "75%           3959.000000  \n",
              "max          60163.000000  \n",
              "\n",
              "[8 rows x 116 columns]"
            ]
          },
          "execution_count": 5,
          "metadata": {},
          "output_type": "execute_result"
        }
      ],
      "source": [
        "census_df.describe()                      # It gives a quick look at various arithemetic calculations of different numeric columns, calculations like count, mean, median etc.\n"
      ]
    },
    {
      "cell_type": "code",
      "execution_count": null,
      "metadata": {
        "colab": {
          "base_uri": "https://localhost:8080/"
        },
        "id": "bwimPwGJnXx4",
        "outputId": "9aac03c6-36d8-4ead-8a5f-c7f6e05368ae",
        "scrolled": true
      },
      "outputs": [
        {
          "name": "stdout",
          "output_type": "stream",
          "text": [
            "<class 'pandas.core.frame.DataFrame'>\n",
            "RangeIndex: 640 entries, 0 to 639\n",
            "Columns: 118 entries, District code to Total_Power_Parity\n",
            "dtypes: int64(116), object(2)\n",
            "memory usage: 590.1+ KB\n"
          ]
        }
      ],
      "source": [
        "census_df.info()"
      ]
    },
    {
      "cell_type": "code",
      "execution_count": null,
      "metadata": {
        "colab": {
          "base_uri": "https://localhost:8080/",
          "height": 369
        },
        "id": "frfIpkj2nXx5",
        "outputId": "c1c97258-c570-4bb0-f320-0b72c3013f8e"
      },
      "outputs": [
        {
          "data": {
            "text/html": [
              "\n",
              "  <div id=\"df-eb57807b-06b7-4dfc-a176-b3c51816ea11\">\n",
              "    <div class=\"colab-df-container\">\n",
              "      <div>\n",
              "<style scoped>\n",
              "    .dataframe tbody tr th:only-of-type {\n",
              "        vertical-align: middle;\n",
              "    }\n",
              "\n",
              "    .dataframe tbody tr th {\n",
              "        vertical-align: top;\n",
              "    }\n",
              "\n",
              "    .dataframe thead th {\n",
              "        text-align: right;\n",
              "    }\n",
              "</style>\n",
              "<table border=\"1\" class=\"dataframe\">\n",
              "  <thead>\n",
              "    <tr style=\"text-align: right;\">\n",
              "      <th></th>\n",
              "      <th>District code</th>\n",
              "      <th>State name</th>\n",
              "      <th>District name</th>\n",
              "      <th>Population</th>\n",
              "      <th>Male</th>\n",
              "      <th>Female</th>\n",
              "      <th>Literate</th>\n",
              "      <th>Male_Literate</th>\n",
              "      <th>Female_Literate</th>\n",
              "      <th>SC</th>\n",
              "      <th>...</th>\n",
              "      <th>Power_Parity_Rs_90000_150000</th>\n",
              "      <th>Power_Parity_Rs_45000_150000</th>\n",
              "      <th>Power_Parity_Rs_150000_240000</th>\n",
              "      <th>Power_Parity_Rs_240000_330000</th>\n",
              "      <th>Power_Parity_Rs_150000_330000</th>\n",
              "      <th>Power_Parity_Rs_330000_425000</th>\n",
              "      <th>Power_Parity_Rs_425000_545000</th>\n",
              "      <th>Power_Parity_Rs_330000_545000</th>\n",
              "      <th>Power_Parity_Above_Rs_545000</th>\n",
              "      <th>Total_Power_Parity</th>\n",
              "    </tr>\n",
              "  </thead>\n",
              "  <tbody>\n",
              "    <tr>\n",
              "      <th>198</th>\n",
              "      <td>199</td>\n",
              "      <td>UTTAR PRADESH</td>\n",
              "      <td>Mirzapur</td>\n",
              "      <td>2496970</td>\n",
              "      <td>1312302</td>\n",
              "      <td>1184668</td>\n",
              "      <td>1428683</td>\n",
              "      <td>865837</td>\n",
              "      <td>562846</td>\n",
              "      <td>661129</td>\n",
              "      <td>...</td>\n",
              "      <td>679</td>\n",
              "      <td>1703</td>\n",
              "      <td>176</td>\n",
              "      <td>245</td>\n",
              "      <td>421</td>\n",
              "      <td>160</td>\n",
              "      <td>52</td>\n",
              "      <td>212</td>\n",
              "      <td>52</td>\n",
              "      <td>2875</td>\n",
              "    </tr>\n",
              "    <tr>\n",
              "      <th>576</th>\n",
              "      <td>577</td>\n",
              "      <td>KARNATAKA</td>\n",
              "      <td>Mysore</td>\n",
              "      <td>3001127</td>\n",
              "      <td>1511600</td>\n",
              "      <td>1489527</td>\n",
              "      <td>1962180</td>\n",
              "      <td>1063766</td>\n",
              "      <td>898414</td>\n",
              "      <td>536643</td>\n",
              "      <td>...</td>\n",
              "      <td>1261</td>\n",
              "      <td>2483</td>\n",
              "      <td>525</td>\n",
              "      <td>237</td>\n",
              "      <td>762</td>\n",
              "      <td>330</td>\n",
              "      <td>537</td>\n",
              "      <td>867</td>\n",
              "      <td>349</td>\n",
              "      <td>4995</td>\n",
              "    </tr>\n",
              "    <tr>\n",
              "      <th>41</th>\n",
              "      <td>42</td>\n",
              "      <td>PUNJAB</td>\n",
              "      <td>Moga</td>\n",
              "      <td>995746</td>\n",
              "      <td>525920</td>\n",
              "      <td>469826</td>\n",
              "      <td>627889</td>\n",
              "      <td>348549</td>\n",
              "      <td>279340</td>\n",
              "      <td>363417</td>\n",
              "      <td>...</td>\n",
              "      <td>574</td>\n",
              "      <td>1053</td>\n",
              "      <td>401</td>\n",
              "      <td>196</td>\n",
              "      <td>597</td>\n",
              "      <td>256</td>\n",
              "      <td>403</td>\n",
              "      <td>659</td>\n",
              "      <td>336</td>\n",
              "      <td>2774</td>\n",
              "    </tr>\n",
              "    <tr>\n",
              "      <th>537</th>\n",
              "      <td>538</td>\n",
              "      <td>ANDHRA PRADESH</td>\n",
              "      <td>Mahbubnagar</td>\n",
              "      <td>4053028</td>\n",
              "      <td>2050386</td>\n",
              "      <td>2002642</td>\n",
              "      <td>1940646</td>\n",
              "      <td>1158386</td>\n",
              "      <td>782260</td>\n",
              "      <td>708954</td>\n",
              "      <td>...</td>\n",
              "      <td>1137</td>\n",
              "      <td>3241</td>\n",
              "      <td>70</td>\n",
              "      <td>54</td>\n",
              "      <td>124</td>\n",
              "      <td>65</td>\n",
              "      <td>95</td>\n",
              "      <td>160</td>\n",
              "      <td>102</td>\n",
              "      <td>4695</td>\n",
              "    </tr>\n",
              "    <tr>\n",
              "      <th>185</th>\n",
              "      <td>186</td>\n",
              "      <td>UTTAR PRADESH</td>\n",
              "      <td>Sant Kabir Nagar</td>\n",
              "      <td>1715183</td>\n",
              "      <td>869656</td>\n",
              "      <td>845527</td>\n",
              "      <td>954949</td>\n",
              "      <td>567098</td>\n",
              "      <td>387851</td>\n",
              "      <td>369039</td>\n",
              "      <td>...</td>\n",
              "      <td>416</td>\n",
              "      <td>1100</td>\n",
              "      <td>114</td>\n",
              "      <td>163</td>\n",
              "      <td>277</td>\n",
              "      <td>96</td>\n",
              "      <td>18</td>\n",
              "      <td>114</td>\n",
              "      <td>17</td>\n",
              "      <td>1850</td>\n",
              "    </tr>\n",
              "  </tbody>\n",
              "</table>\n",
              "<p>5 rows × 118 columns</p>\n",
              "</div>\n",
              "      <button class=\"colab-df-convert\" onclick=\"convertToInteractive('df-eb57807b-06b7-4dfc-a176-b3c51816ea11')\"\n",
              "              title=\"Convert this dataframe to an interactive table.\"\n",
              "              style=\"display:none;\">\n",
              "        \n",
              "  <svg xmlns=\"http://www.w3.org/2000/svg\" height=\"24px\"viewBox=\"0 0 24 24\"\n",
              "       width=\"24px\">\n",
              "    <path d=\"M0 0h24v24H0V0z\" fill=\"none\"/>\n",
              "    <path d=\"M18.56 5.44l.94 2.06.94-2.06 2.06-.94-2.06-.94-.94-2.06-.94 2.06-2.06.94zm-11 1L8.5 8.5l.94-2.06 2.06-.94-2.06-.94L8.5 2.5l-.94 2.06-2.06.94zm10 10l.94 2.06.94-2.06 2.06-.94-2.06-.94-.94-2.06-.94 2.06-2.06.94z\"/><path d=\"M17.41 7.96l-1.37-1.37c-.4-.4-.92-.59-1.43-.59-.52 0-1.04.2-1.43.59L10.3 9.45l-7.72 7.72c-.78.78-.78 2.05 0 2.83L4 21.41c.39.39.9.59 1.41.59.51 0 1.02-.2 1.41-.59l7.78-7.78 2.81-2.81c.8-.78.8-2.07 0-2.86zM5.41 20L4 18.59l7.72-7.72 1.47 1.35L5.41 20z\"/>\n",
              "  </svg>\n",
              "      </button>\n",
              "      \n",
              "  <style>\n",
              "    .colab-df-container {\n",
              "      display:flex;\n",
              "      flex-wrap:wrap;\n",
              "      gap: 12px;\n",
              "    }\n",
              "\n",
              "    .colab-df-convert {\n",
              "      background-color: #E8F0FE;\n",
              "      border: none;\n",
              "      border-radius: 50%;\n",
              "      cursor: pointer;\n",
              "      display: none;\n",
              "      fill: #1967D2;\n",
              "      height: 32px;\n",
              "      padding: 0 0 0 0;\n",
              "      width: 32px;\n",
              "    }\n",
              "\n",
              "    .colab-df-convert:hover {\n",
              "      background-color: #E2EBFA;\n",
              "      box-shadow: 0px 1px 2px rgba(60, 64, 67, 0.3), 0px 1px 3px 1px rgba(60, 64, 67, 0.15);\n",
              "      fill: #174EA6;\n",
              "    }\n",
              "\n",
              "    [theme=dark] .colab-df-convert {\n",
              "      background-color: #3B4455;\n",
              "      fill: #D2E3FC;\n",
              "    }\n",
              "\n",
              "    [theme=dark] .colab-df-convert:hover {\n",
              "      background-color: #434B5C;\n",
              "      box-shadow: 0px 1px 3px 1px rgba(0, 0, 0, 0.15);\n",
              "      filter: drop-shadow(0px 1px 2px rgba(0, 0, 0, 0.3));\n",
              "      fill: #FFFFFF;\n",
              "    }\n",
              "  </style>\n",
              "\n",
              "      <script>\n",
              "        const buttonEl =\n",
              "          document.querySelector('#df-eb57807b-06b7-4dfc-a176-b3c51816ea11 button.colab-df-convert');\n",
              "        buttonEl.style.display =\n",
              "          google.colab.kernel.accessAllowed ? 'block' : 'none';\n",
              "\n",
              "        async function convertToInteractive(key) {\n",
              "          const element = document.querySelector('#df-eb57807b-06b7-4dfc-a176-b3c51816ea11');\n",
              "          const dataTable =\n",
              "            await google.colab.kernel.invokeFunction('convertToInteractive',\n",
              "                                                     [key], {});\n",
              "          if (!dataTable) return;\n",
              "\n",
              "          const docLinkHtml = 'Like what you see? Visit the ' +\n",
              "            '<a target=\"_blank\" href=https://colab.research.google.com/notebooks/data_table.ipynb>data table notebook</a>'\n",
              "            + ' to learn more about interactive tables.';\n",
              "          element.innerHTML = '';\n",
              "          dataTable['output_type'] = 'display_data';\n",
              "          await google.colab.output.renderOutput(dataTable, element);\n",
              "          const docLink = document.createElement('div');\n",
              "          docLink.innerHTML = docLinkHtml;\n",
              "          element.appendChild(docLink);\n",
              "        }\n",
              "      </script>\n",
              "    </div>\n",
              "  </div>\n",
              "  "
            ],
            "text/plain": [
              "     District code      State name     District name  Population     Male  \\\n",
              "198            199   UTTAR PRADESH          Mirzapur     2496970  1312302   \n",
              "576            577       KARNATAKA            Mysore     3001127  1511600   \n",
              "41              42          PUNJAB              Moga      995746   525920   \n",
              "537            538  ANDHRA PRADESH       Mahbubnagar     4053028  2050386   \n",
              "185            186   UTTAR PRADESH  Sant Kabir Nagar     1715183   869656   \n",
              "\n",
              "      Female  Literate  Male_Literate  Female_Literate      SC  ...  \\\n",
              "198  1184668   1428683         865837           562846  661129  ...   \n",
              "576  1489527   1962180        1063766           898414  536643  ...   \n",
              "41    469826    627889         348549           279340  363417  ...   \n",
              "537  2002642   1940646        1158386           782260  708954  ...   \n",
              "185   845527    954949         567098           387851  369039  ...   \n",
              "\n",
              "     Power_Parity_Rs_90000_150000  Power_Parity_Rs_45000_150000  \\\n",
              "198                           679                          1703   \n",
              "576                          1261                          2483   \n",
              "41                            574                          1053   \n",
              "537                          1137                          3241   \n",
              "185                           416                          1100   \n",
              "\n",
              "     Power_Parity_Rs_150000_240000  Power_Parity_Rs_240000_330000  \\\n",
              "198                            176                            245   \n",
              "576                            525                            237   \n",
              "41                             401                            196   \n",
              "537                             70                             54   \n",
              "185                            114                            163   \n",
              "\n",
              "     Power_Parity_Rs_150000_330000  Power_Parity_Rs_330000_425000  \\\n",
              "198                            421                            160   \n",
              "576                            762                            330   \n",
              "41                             597                            256   \n",
              "537                            124                             65   \n",
              "185                            277                             96   \n",
              "\n",
              "     Power_Parity_Rs_425000_545000  Power_Parity_Rs_330000_545000  \\\n",
              "198                             52                            212   \n",
              "576                            537                            867   \n",
              "41                             403                            659   \n",
              "537                             95                            160   \n",
              "185                             18                            114   \n",
              "\n",
              "     Power_Parity_Above_Rs_545000  Total_Power_Parity  \n",
              "198                            52                2875  \n",
              "576                           349                4995  \n",
              "41                            336                2774  \n",
              "537                           102                4695  \n",
              "185                            17                1850  \n",
              "\n",
              "[5 rows x 118 columns]"
            ]
          },
          "execution_count": 7,
          "metadata": {},
          "output_type": "execute_result"
        }
      ],
      "source": [
        "census_df.sample(5)                       # '''sample''' function can be used to get a view of random data from the datasetdata "
      ]
    },
    {
      "cell_type": "code",
      "execution_count": null,
      "metadata": {
        "colab": {
          "base_uri": "https://localhost:8080/"
        },
        "id": "1fEwwfHynXx5",
        "outputId": "02e18430-16fa-42f5-9e88-9bd680dc8219"
      },
      "outputs": [
        {
          "data": {
            "text/plain": [
              "Index(['District code', 'State name', 'District name', 'Population', 'Male',\n",
              "       'Female', 'Literate', 'Male_Literate', 'Female_Literate', 'SC',\n",
              "       ...\n",
              "       'Power_Parity_Rs_90000_150000', 'Power_Parity_Rs_45000_150000',\n",
              "       'Power_Parity_Rs_150000_240000', 'Power_Parity_Rs_240000_330000',\n",
              "       'Power_Parity_Rs_150000_330000', 'Power_Parity_Rs_330000_425000',\n",
              "       'Power_Parity_Rs_425000_545000', 'Power_Parity_Rs_330000_545000',\n",
              "       'Power_Parity_Above_Rs_545000', 'Total_Power_Parity'],\n",
              "      dtype='object', length=118)"
            ]
          },
          "execution_count": 8,
          "metadata": {},
          "output_type": "execute_result"
        }
      ],
      "source": [
        "census_df.columns"
      ]
    },
    {
      "cell_type": "markdown",
      "metadata": {
        "id": "dseqeW_HnXx5"
      },
      "source": [
        "## Filtering "
      ]
    },
    {
      "cell_type": "markdown",
      "metadata": {
        "id": "kGwPKPTdnXx6"
      },
      "source": [
        "#### Extracting required columns out of Dataset"
      ]
    },
    {
      "cell_type": "code",
      "execution_count": null,
      "metadata": {
        "id": "9zO4U28BnXx6"
      },
      "outputs": [],
      "source": [
        "census_ind = census_df[['State name','District name','Population','Male','Female','Literate','Male_Literate','Female_Literate','SC','Male_SC','Female_SC','ST','Hindus','Muslims','Christians','Sikhs','Buddhists','Jains','Rural_Households','Urban_Households','Households','Below_Primary_Education','Primary_Education','Middle_Education','Secondary_Education','Higher_Education','Age_Group_0_29','Age_Group_30_49','Age_Group_50','Age not stated'\n",
        "]]\n",
        "\n",
        "census = census_ind.copy()"
      ]
    },
    {
      "cell_type": "markdown",
      "metadata": {
        "id": "T8-XC5MHnXx7"
      },
      "source": [
        "##### Correcting column names and making new dataframes for analysis"
      ]
    },
    {
      "cell_type": "code",
      "execution_count": null,
      "metadata": {
        "id": "U6HC_9NpnXx7"
      },
      "outputs": [],
      "source": [
        "census.rename(columns = {'State name':'state_name', 'District name':'district_name', 'Age not stated':'Age_not_stated'}, inplace = True)\n",
        "census_ind_df = census.groupby('state_name')[['Population','Male','Female','Literate','Male_Literate','Female_Literate','SC','Male_SC','Female_SC','ST','Hindus','Muslims','Christians','Sikhs','Buddhists','Jains','Rural_Households','Urban_Households','Households','Below_Primary_Education','Primary_Education','Middle_Education','Secondary_Education','Higher_Education','Age_Group_0_29','Age_Group_30_49','Age_Group_50','Age_not_stated'\n",
        "]].sum()"
      ]
    },
    {
      "cell_type": "markdown",
      "metadata": {
        "id": "GfJHw6eSnXx7"
      },
      "source": [
        "# Analysis and Visualizations\n",
        "\n",
        "Here we will use Libraries like ``` matplotlib``` and ```seaborn``` for visualization. Matplotlib have an alias as ```plt``` and seaborn is aliased as ```sns```."
      ]
    },
    {
      "cell_type": "markdown",
      "metadata": {
        "id": "pl7sw-SXnXx8"
      },
      "source": [
        "### 1) Which are the 10 most populated states/Uts of India?"
      ]
    },
    {
      "cell_type": "code",
      "execution_count": null,
      "metadata": {
        "colab": {
          "base_uri": "https://localhost:8080/",
          "height": 442
        },
        "id": "sLX8A-xjnXx8",
        "outputId": "d59da725-0fbb-4834-ba4d-2eeaa2e4faf4"
      },
      "outputs": [
        {
          "data": {
            "image/png": "[encoded data removed]",
            "text/plain": [
              "<Figure size 1440x504 with 1 Axes>"
            ]
          },
          "metadata": {},
          "output_type": "display_data"
        }
      ],
      "source": [
        "\n",
        "pop = census.groupby('state_name')[['Population']].sum().sort_values('Population', ascending = False).head(10)\n",
        "plt.figure(figsize=(20,7))                                                     \n",
        "plt.plot(pop.index, pop.Population, c='r', marker ='o')\n",
        "plt.bar(pop.index, pop.Population)\n",
        "plt.title('Top 10 most populated states/Uts', c='r', fontsize = 20)\n",
        "plt.xlabel('States/Uts', c='r', fontsize = 12)\n",
        "plt.ylabel('Population', c='r', fontsize = 12);\n"
      ]
    },
    {
      "cell_type": "markdown",
      "metadata": {
        "id": "R_FeqijdnXx9"
      },
      "source": [
        "##### Comments\n",
        "* Uttar pradesh is the state with highest of 20.42 crore as per last census occured in 2011\n",
        "* Gujrat is on the 10th number of top list with a population of a approx 6.5 crores"
      ]
    },
    {
      "cell_type": "markdown",
      "metadata": {
        "id": "j7RPS8GLnXx9"
      },
      "source": [
        "### 2) Which are the  5 least populated states?"
      ]
    },
    {
      "cell_type": "code",
      "execution_count": null,
      "metadata": {
        "id": "lQrT4GgmnXx-"
      },
      "outputs": [],
      "source": [
        "pop1 = census.groupby('state_name')[['Population']].sum().sort_values('Population', ascending = True).head(5)"
      ]
    },
    {
      "cell_type": "code",
      "execution_count": null,
      "metadata": {
        "colab": {
          "base_uri": "https://localhost:8080/",
          "height": 358
        },
        "id": "vgtzm7W3nXx-",
        "outputId": "3c968e47-ee9d-4134-87fb-64fc330d20fb"
      },
      "outputs": [
        {
          "data": {
            "image/png": "[encoded data removed]",
            "text/plain": [
              "<Figure size 1080x360 with 1 Axes>"
            ]
          },
          "metadata": {},
          "output_type": "display_data"
        }
      ],
      "source": [
        "plt.figure(figsize=(15,5))\n",
        "plt.bar(pop1.index, pop1.Population)\n",
        "plt.title('Top 5 least populated states/Uts', fontsize=20, c='r')\n",
        "plt.xlabel('States/Uts', fontsize = 12, c='r')\n",
        "plt.ylabel('Population', fontsize = 12, c='r');"
      ]
    },
    {
      "cell_type": "markdown",
      "metadata": {
        "id": "cj_OlrtwnXx-"
      },
      "source": [
        "* Among all the states and union territories in India, Lakshdweep is the least populated with less then 1 lakh population"
      ]
    },
    {
      "cell_type": "markdown",
      "metadata": {
        "id": "TlS5QFRknXx-"
      },
      "source": [
        "### 3) What is the Percentage of men and women in the country Population?"
      ]
    },
    {
      "cell_type": "code",
      "execution_count": null,
      "metadata": {
        "id": "A5qfOo7YnXx_"
      },
      "outputs": [],
      "source": [
        "total_pop = census.Population.sum()\n",
        "mw_pop = census.Male.sum()\n",
        "mw_pop1 = census.Female.sum()\n",
        "men_percent = (mw_pop/total_pop)*100\n",
        "women_percent = (mw_pop1/total_pop)*100"
      ]
    },
    {
      "cell_type": "code",
      "execution_count": null,
      "metadata": {
        "colab": {
          "base_uri": "https://localhost:8080/"
        },
        "id": "8c6xSGjonXx_",
        "outputId": "db5c7d2b-f62a-40ca-dae0-4ff7dd484173"
      },
      "outputs": [
        {
          "name": "stdout",
          "output_type": "stream",
          "text": [
            "Number of male in whole population is 51.473567837513215 %\n",
            "Number of female in whole population is 48.526432162486785 %\n"
          ]
        }
      ],
      "source": [
        "print( 'Number of male in whole population is {}'.format(men_percent),'%')\n",
        "print( 'Number of female in whole population is {}'.format(women_percent),'%')"
      ]
    },
    {
      "cell_type": "markdown",
      "metadata": {
        "id": "KNaJHIMZnXx_"
      },
      "source": [
        "### 4) What is the weight  of different religions in the country?"
      ]
    },
    {
      "cell_type": "code",
      "execution_count": null,
      "metadata": {
        "colab": {
          "base_uri": "https://localhost:8080/",
          "height": 470
        },
        "id": "t2qdNT4MnXx_",
        "outputId": "4873ecc5-50b2-4c43-f68b-62251ae5593b"
      },
      "outputs": [
        {
          "data": {
            "image/png": "[encoded data removed]",
            "text/plain": [
              "<Figure size 720x504 with 1 Axes>"
            ]
          },
          "metadata": {},
          "output_type": "display_data"
        }
      ],
      "source": [
        "religion = ['Hindus','Muslims','Christians','Sikhs','Buddhists','Jains' ]\n",
        "hindus = census.Hindus.sum()\n",
        "muslims = census.Muslims.sum()\n",
        "christians = census.Christians.sum()\n",
        "sikhs = census.Sikhs.sum()\n",
        "buddhist = census.Buddhists.sum()\n",
        "jains = census.Jains.sum()\n",
        "rel_pop = [hindus,muslims,christians,sikhs,buddhist,jains]\n",
        "rel_pop = np.array([hindus,muslims,christians,sikhs,buddhist,jains])\n",
        "myexplode=[0.2, 0.1, 0.2, 0.3, 0.4, 0.5]\n",
        "mycolor=['Orange','Green','Grey','blue','red','purple']\n",
        "\n",
        "plt.figure(figsize=(10,7))\n",
        "plt.pie(rel_pop, labels = rel_pop, explode = myexplode, startangle = 90, colors = mycolor)\n",
        "plt.legend(religion);"
      ]
    },
    {
      "cell_type": "markdown",
      "metadata": {
        "id": "-NPf3l26nXyA"
      },
      "source": [
        "* Highest population in the country is of Hindus and lowest is of Jains"
      ]
    },
    {
      "cell_type": "markdown",
      "metadata": {
        "id": "b7SvuJHbnXyA"
      },
      "source": [
        "### 5) Which are the Top 10 states/Uts with highest literacy rate?"
      ]
    },
    {
      "cell_type": "code",
      "execution_count": null,
      "metadata": {
        "id": "i9fL-61vnXyA",
        "scrolled": true
      },
      "outputs": [],
      "source": [
        "literacy_rate = census.groupby('state_name')[['Population']].sum()\n",
        "ltr_df = literacy_rate\n",
        "\n",
        "literate = census.groupby('state_name')[['Literate']].sum()\n",
        "\n",
        "ltr_df['literate'] = literate.Literate\n",
        "ltr_df['literacy_rate'] = (ltr_df.literate/ltr_df.Population)*100\n",
        "\n",
        "literacy_rate_df=ltr_df.sort_values('literacy_rate', ascending = False).head(10)\n",
        "colors = ['red','blue','green','yellow','orange','purple','pink','black','violet','brown']"
      ]
    },
    {
      "cell_type": "code",
      "execution_count": null,
      "metadata": {
        "colab": {
          "base_uri": "https://localhost:8080/",
          "height": 447
        },
        "id": "cGZOFitBnXyA",
        "outputId": "8a43c635-089a-4954-f3f7-f8f9099f9d14"
      },
      "outputs": [
        {
          "data": {
            "image/png": "[encoded data removed]",
            "text/plain": [
              "<Figure size 1800x648 with 1 Axes>"
            ]
          },
          "metadata": {},
          "output_type": "display_data"
        }
      ],
      "source": [
        "plt.figure(figsize=(25,9))\n",
        "plt.bar(literacy_rate_df.index, literacy_rate_df.literacy_rate, color=colors)\n",
        "plt.title('Top 10 states/Uts with highest literacy rate', c='r', fontsize = 20)\n",
        "plt.xlabel('state/Uts_name', c='r', fontsize = 12)\n",
        "plt.ylabel('Literacy rate', c='r', fontsize = 12);"
      ]
    },
    {
      "cell_type": "markdown",
      "metadata": {
        "id": "drX6L0VnnXyB"
      },
      "source": [
        "* Kerela has the highest literacy rate among all the states"
      ]
    },
    {
      "cell_type": "markdown",
      "metadata": {
        "id": "40RdR80RnXyB"
      },
      "source": [
        "### 6) Is there any relation between literacy rate and population rate?"
      ]
    },
    {
      "cell_type": "code",
      "execution_count": null,
      "metadata": {
        "colab": {
          "base_uri": "https://localhost:8080/",
          "height": 521
        },
        "id": "BDJ8UFRTnXyB",
        "outputId": "4ca002e4-b30d-4696-ce84-a2f68538b65b"
      },
      "outputs": [
        {
          "name": "stderr",
          "output_type": "stream",
          "text": [
            "/usr/local/lib/python3.7/dist-packages/seaborn/_decorators.py:43: FutureWarning: Pass the following variables as keyword args: x, y. From version 0.12, the only valid positional argument will be `data`, and passing other arguments without an explicit keyword will result in an error or misinterpretation.\n",
            "  FutureWarning\n"
          ]
        },
        {
          "data": {
            "image/png": "[encoded data removed]",
            "text/plain": [
              "<Figure size 720x504 with 1 Axes>"
            ]
          },
          "metadata": {},
          "output_type": "display_data"
        }
      ],
      "source": [
        "literacy_rate_df1 = ltr_df.sort_values('literacy_rate', ascending = False)\n",
        "plt.figure(figsize=(10,7))\n",
        "sns.set_style('darkgrid')\n",
        "sns.scatterplot(literacy_rate_df1.Population, literacy_rate_df1.literacy_rate, color='g', s=90)\n",
        "plt.title('Comparison between literacy rate and population rate', c='r', fontsize = 20)\n",
        "plt.xlabel(\"Population\", fontsize = 12)\n",
        "plt.ylabel('Literacy_rate', fontsize = 12);"
      ]
    },
    {
      "cell_type": "markdown",
      "metadata": {
        "id": "h9C7ON6FnXyB"
      },
      "source": [
        "* The graph denotes that almost all the place where literacy rate is high there population rate is low"
      ]
    },
    {
      "cell_type": "markdown",
      "metadata": {
        "id": "L2fNpMB5nXyC"
      },
      "source": [
        "### 7) What is the Education level wise_distribution in Country?"
      ]
    },
    {
      "cell_type": "code",
      "execution_count": null,
      "metadata": {
        "id": "T0tSAuuqnXyC"
      },
      "outputs": [],
      "source": [
        "below_primary_ed = census_ind_df.Below_Primary_Education.sum()\n",
        "primary_ed = census_ind_df.Primary_Education.sum()\n",
        "middle_ed = census_ind_df.Middle_Education.sum()\n",
        "secondary_ed = census_ind_df.Secondary_Education.sum()\n",
        "higher_ed = census_ind_df.Higher_Education.sum()\n",
        "\n",
        "education_df = [below_primary_ed, primary_ed, middle_ed, secondary_ed, higher_ed]\n",
        "education = ['below_primary_ed', 'primary_ed', 'middle_ed', 'secondary_ed', 'higher_ed']"
      ]
    },
    {
      "cell_type": "code",
      "execution_count": null,
      "metadata": {
        "colab": {
          "background_save": true,
          "base_uri": "https://localhost:8080/",
          "height": 467
        },
        "id": "gveVLReHnXyC",
        "outputId": "2347a07e-a5c1-4069-c211-e194856d37a0"
      },
      "outputs": [
        {
          "data": {
            "image/png": "[encoded data removed]",
            "text/plain": [
              "<Figure size 720x504 with 1 Axes>"
            ]
          },
          "metadata": {},
          "output_type": "display_data"
        }
      ],
      "source": [
        "plt.figure(figsize=(10,7))\n",
        "plt.bar(education, education_df)\n",
        "plt.title('Education level wise distribution in Country', c='y', fontsize = 20)\n",
        "plt.xlabel('Education level',c='r',fontsize = 12)\n",
        "plt.ylabel(\"Population\", c='r',fontsize = 12);"
      ]
    },
    {
      "cell_type": "markdown",
      "metadata": {
        "id": "XLUZ3geVnXyC"
      },
      "source": [
        "* Only 0.75 crores of Population is educated till higher education\n",
        "* Approx 2 crores have gained the Primary education"
      ]
    },
    {
      "cell_type": "markdown",
      "metadata": {
        "id": "nml_xjCznXyC"
      },
      "source": [
        "### 8) What is the Age-wise Population distribution?"
      ]
    },
    {
      "cell_type": "code",
      "execution_count": null,
      "metadata": {
        "id": "cSOBNiOZnXyD"
      },
      "outputs": [],
      "source": [
        "age1 = census_ind_df.Age_Group_0_29.sum()\n",
        "age2 = census_ind_df.Age_Group_30_49.sum()\n",
        "age3 = census_ind_df.Age_Group_50.sum()\n",
        "age4 = census_ind_df.Age_not_stated.sum()\n",
        "Popul = [age1, age2, age3, age4]\n",
        "age_group = ['0-29', '30-49', '50', 'age_not_stated']"
      ]
    },
    {
      "cell_type": "code",
      "execution_count": null,
      "metadata": {
        "colab": {
          "base_uri": "https://localhost:8080/",
          "height": 521
        },
        "id": "tEsUMKc4nXyD",
        "outputId": "a7210dfb-51e2-4328-cdfd-a0f3170afe2f"
      },
      "outputs": [
        {
          "name": "stderr",
          "output_type": "stream",
          "text": [
            "/usr/local/lib/python3.7/dist-packages/seaborn/_decorators.py:43: FutureWarning: Pass the following variables as keyword args: x, y. From version 0.12, the only valid positional argument will be `data`, and passing other arguments without an explicit keyword will result in an error or misinterpretation.\n",
            "  FutureWarning\n"
          ]
        },
        {
          "data": {
            "image/png": "[encoded data removed]",
            "text/plain": [
              "<Figure size 720x504 with 1 Axes>"
            ]
          },
          "metadata": {},
          "output_type": "display_data"
        }
      ],
      "source": [
        "plt.figure(figsize=(10,7))\n",
        "sns.barplot(Popul, age_group)\n",
        "plt.title('Age-wise Population data', fontsize = 20, c='r')\n",
        "plt.xlabel(\"Population\", fontsize = 12)\n",
        "plt.ylabel('Age_group', fontsize = 12);"
      ]
    },
    {
      "cell_type": "markdown",
      "metadata": {
        "id": "L-WLiFROnXyD"
      },
      "source": [
        "* Out of total population Youths have the highest popultion in India "
      ]
    },
    {
      "cell_type": "markdown",
      "metadata": {
        "id": "QqmLSQSenXyD"
      },
      "source": [
        "### 9) What is the count of Scheduled Casts & Scheduled Tribes in the country?"
      ]
    },
    {
      "cell_type": "code",
      "execution_count": null,
      "metadata": {
        "id": "Tweo4MZhnXyD"
      },
      "outputs": [],
      "source": [
        "sc= census_ind_df.SC.sum()\n",
        "st= census_ind_df.ST.sum()\n",
        "\n",
        "sct =[sc, st]\n",
        "sct1 =['sc', 'st']"
      ]
    },
    {
      "cell_type": "code",
      "execution_count": null,
      "metadata": {
        "colab": {
          "base_uri": "https://localhost:8080/"
        },
        "id": "IXkunVPFnXyE",
        "outputId": "f814b816-6046-478d-cd81-c8ca7ac3b8b3"
      },
      "outputs": [
        {
          "data": {
            "text/plain": [
              "201378372"
            ]
          },
          "execution_count": 28,
          "metadata": {},
          "output_type": "execute_result"
        }
      ],
      "source": [
        "census_ind_df.SC.sum()"
      ]
    },
    {
      "cell_type": "code",
      "execution_count": null,
      "metadata": {
        "colab": {
          "base_uri": "https://localhost:8080/"
        },
        "id": "57t1yG-DnXyE",
        "outputId": "5b8309b0-6db0-43f9-dae2-a06ab5ecabe0"
      },
      "outputs": [
        {
          "data": {
            "text/plain": [
              "104545716"
            ]
          },
          "execution_count": 29,
          "metadata": {},
          "output_type": "execute_result"
        }
      ],
      "source": [
        "census_ind_df.ST.sum()"
      ]
    },
    {
      "cell_type": "code",
      "execution_count": null,
      "metadata": {
        "colab": {
          "base_uri": "https://localhost:8080/",
          "height": 466
        },
        "id": "ElEJAPbynXyE",
        "outputId": "155c5fe0-f497-4d98-bbe4-7f1b5ed239a9"
      },
      "outputs": [
        {
          "data": {
            "image/png": "[encoded data removed]",
            "text/plain": [
              "<Figure size 504x504 with 1 Axes>"
            ]
          },
          "metadata": {},
          "output_type": "display_data"
        }
      ],
      "source": [
        "plt.figure(figsize=(7,7))\n",
        "plt.bar(sct1, sct, color='y')\n",
        "plt.title('Count of Scheduled Castes & Scheduled Tribes', fontsize=20)\n",
        "plt.xlabel('Casts', fontsize = 12)\n",
        "plt.ylabel('Population', fontsize = 12 );\n"
      ]
    },
    {
      "cell_type": "markdown",
      "metadata": {
        "id": "rbwm-wkKnXyE"
      },
      "source": [
        "* The population of Scheduled Cast is double as the population of Scheduled Tribe"
      ]
    },
    {
      "cell_type": "markdown",
      "metadata": {
        "id": "XDYjDUp7nXyE"
      },
      "source": [
        "# SUMMARY"
      ]
    },
    {
      "cell_type": "markdown",
      "metadata": {
        "id": "EHrQt4zcnXyF"
      },
      "source": [
        "The Dataset used in the above Analysis is the census that took place in the year 2011. It consists the columns Like\n",
        "* State name\n",
        "* District name\n",
        "* Population\n",
        "* Male\n",
        "* Female\n",
        "* SC\n",
        "* ST\n",
        "* Age\n",
        "* Education etc.\n",
        "\n",
        "The Analysis is basically divide into 3 parts:-\n",
        "\n",
        "###  1.) Exploring Dataset\n",
        " In this Part the main focus is given over Exploring datasets and getting the metadata out of it.\n",
        " ###### Observations\n",
        " * number of rows(640)\n",
        " * number of columns(118)\n",
        " * Describing the various arithematic calculations\n",
        " * Getting basic info about the dataset like its RangeIndex, Column, dtype, memoryusage\n",
        " \n",
        " \n",
        "### 2.) Filtering Dataset\n",
        "In this part, the dataset is filtered and is converted into the form that can be used for the main Analysis Part\n",
        "###### Steps Included\n",
        "* Extracting the required column from the Dataset and Exclusing the Unwanted columns\n",
        "* Changing the names of the Columns which were in the dodgy format or were incompatible for the analysis\n",
        "* Making it reliable for futher Analysis\n",
        "\n",
        "### 3.) Analysis and Visualization\n",
        "In this part, the main Analysis takes place in the form of some Questions and it's answer in the form of visualization\n",
        "###### Questions.\n",
        "* Which are the 10 most populated States/Uts of India?\n",
        "* Which are the top 5 least populated States/Uts?\n",
        "* What is the Percentage of men and women in the country Population?\n",
        "* What is the weight of different religions in the country?\n",
        "* Which are the Top 10 States/Uts with highest literacy rate?\n",
        "* Is there any relation between literacy rate and population rate?\n",
        "* What is the Education level wise_distribution in Country?\n",
        "* What is the Age-wise Population distribution?\n",
        "* What is the count of Scheduled Casts & Scheduled Tribes in the country?\n",
        "\n",
        "###### Observations\n",
        "1. Uttar Pradesh is the most populated State among all the States/Uts in India\n",
        "2. Lakshdweed is the least populated union territory among all the States/Uts \n",
        "3. The Percentage of men in the country is 57.47% approximately and that of women is 49.52% approx\n",
        "4. The Highest Population in the country is of Hindus and the lowest is of Jains\n",
        "5. Kerala has the Highest literacy rate among all the States/Uts\n",
        "6. There is relation belween literacy rate and population rate, as the literacy rate goes high the Population rate goes down\n",
        "7. Approx 2 crores of the  population have gained the Primary education but Only 0.75 crores of Population is educated till higher education\n",
        "8. Youths have the highest population in the country among all age groups\n",
        "9. The population of Scheduled Tribes(STs) in the country is approx. 10.5 crores and that of Scheduled Casts(SCs) is approx. 20 crores \n",
        "\n",
        "\n",
        "### Source of Dataset\n",
        "Kaggles: https://www.kaggle.com/danofer/india-census?select=india-districts-census-2011.csv\n",
        "\n",
        "\n",
        "**The Data is subjected to keep changing time to time**"
      ]
    },
    {
      "cell_type": "code",
      "execution_count": null,
      "metadata": {
        "id": "e-LSqjOvn63A"
      },
      "outputs": [],
      "source": []
    }
  ],
  "metadata": {
    "colab": {
      "provenance": []
    },
    "kernelspec": {
      "display_name": "Python 3",
      "language": "python",
      "name": "python3"
    },
    "language_info": {
      "codemirror_mode": {
        "name": "ipython",
        "version": 3
      },
      "file_extension": ".py",
      "mimetype": "text/x-python",
      "name": "python",
      "nbconvert_exporter": "python",
      "pygments_lexer": "ipython3",
      "version": "3.7.12"
    }
  },
  "nbformat": 4,
  "nbformat_minor": 0
}